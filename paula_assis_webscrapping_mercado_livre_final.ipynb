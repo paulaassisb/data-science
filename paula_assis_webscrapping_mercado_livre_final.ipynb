{
  "nbformat": 4,
  "nbformat_minor": 0,
  "metadata": {
    "colab": {
      "name": "paula-assis-webscrapping-mercado-livre-final.ipynb",
      "provenance": [],
      "authorship_tag": "ABX9TyOAl9NgikmJAPnuYkGS/Q4I",
      "include_colab_link": true
    },
    "kernelspec": {
      "name": "python3",
      "display_name": "Python 3"
    }
  },
  "cells": [
    {
      "cell_type": "markdown",
      "metadata": {
        "id": "view-in-github",
        "colab_type": "text"
      },
      "source": [
        "<a href=\"https://colab.research.google.com/github/paulaassisb/data-science/blob/main/paula_assis_webscrapping_mercado_livre_final.ipynb\" target=\"_parent\"><img src=\"https://colab.research.google.com/assets/colab-badge.svg\" alt=\"Open In Colab\"/></a>"
      ]
    },
    {
      "cell_type": "code",
      "metadata": {
        "id": "o1qAI4ZTRWzk"
      },
      "source": [
        "import requests"
      ],
      "execution_count": 1,
      "outputs": []
    },
    {
      "cell_type": "code",
      "metadata": {
        "id": "EFhLs_hIRfx-"
      },
      "source": [
        "url='https://imoveis.mercadolivre.com.br/aluguel/sao-paulo/sao-paulo-zona-sul/'\n",
        "c=requests.get(url).content"
      ],
      "execution_count": 4,
      "outputs": []
    },
    {
      "cell_type": "code",
      "metadata": {
        "id": "nUSUoKbWRzq6"
      },
      "source": [
        "from bs4 import BeautifulSoup"
      ],
      "execution_count": 5,
      "outputs": []
    },
    {
      "cell_type": "code",
      "metadata": {
        "id": "ac5I3O7VR6OR"
      },
      "source": [
        "soup = BeautifulSoup(c)"
      ],
      "execution_count": 6,
      "outputs": []
    },
    {
      "cell_type": "code",
      "metadata": {
        "id": "yr5TojQzR_u7"
      },
      "source": [
        "lista_precos_tags = soup.find_all('span', {'class':'price-tag-fraction'})"
      ],
      "execution_count": 9,
      "outputs": []
    },
    {
      "cell_type": "code",
      "metadata": {
        "id": "KzDNCFGnSAZa"
      },
      "source": [
        "lista_precos = []\n",
        "for tag in lista_precos_tags:\n",
        "  lista_precos.append(tag.text)"
      ],
      "execution_count": 12,
      "outputs": []
    },
    {
      "cell_type": "code",
      "metadata": {
        "id": "4FE4s6toSyA5"
      },
      "source": [
        "lista_quarto_area_tags = soup.find_all('ul', {'class': 'ui-search-card-attributes'})"
      ],
      "execution_count": 19,
      "outputs": []
    },
    {
      "cell_type": "code",
      "metadata": {
        "id": "gireA_6UVV5S"
      },
      "source": [
        "lista_quarto_area = [tag.text for tag in lista_quarto_area_tags]"
      ],
      "execution_count": 20,
      "outputs": []
    },
    {
      "cell_type": "code",
      "metadata": {
        "colab": {
          "base_uri": "https://localhost:8080/"
        },
        "id": "LspKp-0EVI3S",
        "outputId": "8400126b-3d6f-43fa-d705-ab1d6b6236be"
      },
      "source": [
        "lista_quarto_area"
      ],
      "execution_count": 21,
      "outputs": [
        {
          "output_type": "execute_result",
          "data": {
            "text/plain": [
              "['105 m² construídos3 quartos',\n",
              " '45 m² construídos1 quarto',\n",
              " '1 quarto',\n",
              " '192 m² construídos4 quartos',\n",
              " '28 m² construídos1 quarto',\n",
              " '55 m² construídos2 quartos',\n",
              " '56 m² construídos2 quartos',\n",
              " '60 m² construídos2 quartos',\n",
              " '52 m² construídos2 quartos',\n",
              " '60 m² construídos2 quartos',\n",
              " '60 m² construídos1 quarto',\n",
              " '120 m² construídos',\n",
              " '70 m² construídos1 quarto',\n",
              " '42 m² construídos1 quarto',\n",
              " '59 m² construídos1 quarto',\n",
              " '120 m² construídos',\n",
              " '66 m² construídos2 quartos',\n",
              " '18 m² construídos1 quarto',\n",
              " '40 m² construídos2 quartos',\n",
              " '35 m² construídos1 quarto',\n",
              " '60 m² construídos2 quartos',\n",
              " '100 m² construídos3 quartos',\n",
              " '53 m² construídos1 quarto',\n",
              " '197 m² construídos3 quartos',\n",
              " '71 m² construídos2 quartos',\n",
              " '50 m² construídos1 quarto',\n",
              " '60 m² construídos2 quartos',\n",
              " '60 m² construídos1 quarto',\n",
              " '40 m² construídos1 quarto',\n",
              " '50 m² construídos1 quarto',\n",
              " '100 m² construídos2 quartos',\n",
              " '24 m² construídos1 quarto',\n",
              " '163 m² construídos3 quartos',\n",
              " '28 m² construídos1 quarto',\n",
              " '24 m² construídos1 quarto',\n",
              " '28 m² construídos1 quarto',\n",
              " '50 m² construídos2 quartos',\n",
              " '64 m² construídos3 quartos',\n",
              " '85 m² construídos2 quartos',\n",
              " '62 m² construídos2 quartos',\n",
              " '49 m² construídos2 quartos',\n",
              " '56 m² construídos2 quartos',\n",
              " '310 m² construídos4 quartos',\n",
              " '130 m² construídos2 quartos',\n",
              " '35 m² construídos1 quarto',\n",
              " '230 m² construídos4 quartos',\n",
              " '45 m² construídos1 quarto',\n",
              " '70 m² construídos2 quartos']"
            ]
          },
          "metadata": {
            "tags": []
          },
          "execution_count": 21
        }
      ]
    },
    {
      "cell_type": "code",
      "metadata": {
        "id": "_HNpyrt_VOit"
      },
      "source": [
        "enderecos_tags = soup.find_all('span', {'class':'ui-search-item__group__element'})\n",
        "enderecos_lista=[end.text for end in enderecos_tags]\n",
        "enderecos_lista=enderecos_lista[1::2]"
      ],
      "execution_count": 24,
      "outputs": []
    },
    {
      "cell_type": "code",
      "metadata": {
        "colab": {
          "base_uri": "https://localhost:8080/"
        },
        "id": "Acu8IU_Ygfq_",
        "outputId": "7dffa414-1143-46db-9e35-d599259ea5ec"
      },
      "source": [
        "enderecos_lista"
      ],
      "execution_count": 25,
      "outputs": [
        {
          "output_type": "execute_result",
          "data": {
            "text/plain": [
              "['Ipiranga, São Paulo Zona Sul, São Paulo',\n",
              " 'Alameda Lorena, 1852, Mont Clair Flat Service, Jardim Paulista, São Paulo Zona Sul, São Paulo',\n",
              " 'Rua  Dom Antonio Alvarenga, Vila Gumercindo, São Paulo Zona Sul, São Paulo',\n",
              " 'Rua Marcos Lopes,\\n                233, Vila Nova Conceição, São Paulo Zona Sul, São Paulo',\n",
              " 'Avenida Itaboraí, Bosque Da Saúde, São Paulo Zona Sul, São Paulo',\n",
              " 'Rua Cisplatina, Ipiranga, São Paulo Zona Sul, São Paulo',\n",
              " 'Avenida Alda, Eldorado, São Paulo Zona Sul, São Paulo',\n",
              " 'Avenida Nossa Senhora Sabará, Vila Isa, São Paulo Zona Sul, São Paulo',\n",
              " 'Rua Guacuris, Vila Parque Jabaquara, São Paulo Zona Sul, São Paulo',\n",
              " 'Rua José Orozco, Americanópolis, São Paulo Zona Sul, São Paulo',\n",
              " 'Rua Pedroso Alvarenga, Itaim Bibi, São Paulo Zona Sul, São Paulo',\n",
              " 'Rua Av Moaci, 867, Planalto Paulista, São Paulo Zona Sul, São Paulo',\n",
              " 'Rua Aleixo Garcia, 113, Vila Olímpia, São Paulo Zona Sul, São Paulo',\n",
              " 'Rua Giuseppe Verdi, Vila Campestre, São Paulo Zona Sul, São Paulo',\n",
              " 'Avenida Giovanni Gronchi, Vila Andrade, São Paulo Zona Sul, São Paulo',\n",
              " 'Avenida Jabaquara, 1771, Mirandópolis, São Paulo Zona Sul, São Paulo',\n",
              " 'Rua Pelotas, Vila Mariana, São Paulo Zona Sul, São Paulo',\n",
              " 'Travessa Nações, Jardim Previdência, São Paulo Zona Sul, São Paulo',\n",
              " 'Avenida Engenheiro Armando De Arruda Pereira, Jabaquara, São Paulo Zona Sul, São Paulo',\n",
              " 'Rua Diogo Vaz, Cambuci, São Paulo Zona Sul, São Paulo',\n",
              " 'Rua Doutor Alcides De Campos, Americanópolis, São Paulo Zona Sul, São Paulo',\n",
              " 'Rua Barão De Jaguara, Cambuci, São Paulo Zona Sul, São Paulo',\n",
              " 'Avenida Giovanni Gronchi, Vila Andrade, São Paulo Zona Sul, São Paulo',\n",
              " 'Rua Alcantarilla, Vila Andrade, São Paulo Zona Sul, São Paulo',\n",
              " 'Avenida Patente, Jardim Patente, São Paulo Zona Sul, São Paulo',\n",
              " 'Rua Varsóvia, Interlagos, São Paulo Zona Sul, São Paulo',\n",
              " 'Avenida Giovanni Gronchi, Vila Andrade, São Paulo Zona Sul, São Paulo',\n",
              " 'Rua Borges Lagoa, Vila Clementino, São Paulo Zona Sul, São Paulo',\n",
              " 'Rua Armando Ramos Filho, Moinho Velho, São Paulo Zona Sul, São Paulo',\n",
              " 'Rua Luiz Gomes De São Tiago, Vila Santa Catarina, São Paulo Zona Sul, São Paulo',\n",
              " 'Avenida Dom Pedro I, Vila Monumento, São Paulo Zona Sul, São Paulo',\n",
              " 'Avenida Ibijaú, Moema, São Paulo Zona Sul, São Paulo',\n",
              " 'Rua José Maria Lisboa, Jardim Paulista, São Paulo Zona Sul, São Paulo',\n",
              " 'Rua José Sálvio Dias, Jardim Oriental, São Paulo Zona Sul, São Paulo',\n",
              " 'Rua José Sálvio Dias, Jardim Oriental, São Paulo Zona Sul, São Paulo',\n",
              " 'Rua José Sálvio Dias, Jardim Oriental, São Paulo Zona Sul, São Paulo',\n",
              " 'Rua Augusto Blasi, Jardim Celeste, São Paulo Zona Sul, São Paulo',\n",
              " 'Avenida Dos Ourives, Jardim São Savério, São Paulo Zona Sul, São Paulo',\n",
              " 'Rua Casa Do Ator, Vila Olímpia, São Paulo Zona Sul, São Paulo',\n",
              " 'Rua Professor Arnaldo João Semeraro, Jardim Santa Emília, São Paulo Zona Sul, São Paulo',\n",
              " 'Rua Zike Tuma, Jardim Ubirajara (zona Sul), São Paulo Zona Sul, São Paulo',\n",
              " 'Avenida Fagundes Filho, Vila Monte Alegre, São Paulo Zona Sul, São Paulo',\n",
              " 'Rua João Álvares Soares, Campo Belo, São Paulo Zona Sul, São Paulo',\n",
              " 'Rua Antônio Madi, Jardim Oriental, São Paulo Zona Sul, São Paulo',\n",
              " 'Rua Adolfo Reile, Jardim Celeste, São Paulo Zona Sul, São Paulo',\n",
              " 'Avenida Horácio Lafer, Itaim Bibi, São Paulo Zona Sul, São Paulo',\n",
              " 'Rua Das Canjeranas, Vila Parque Jabaquara, São Paulo Zona Sul, São Paulo',\n",
              " 'Rua Iguatemi, Itaim Bibi, São Paulo Zona Sul, São Paulo']"
            ]
          },
          "metadata": {
            "tags": []
          },
          "execution_count": 25
        }
      ]
    },
    {
      "cell_type": "code",
      "metadata": {
        "id": "7g4FOBi0gyjk"
      },
      "source": [
        ""
      ],
      "execution_count": null,
      "outputs": []
    }
  ]
}