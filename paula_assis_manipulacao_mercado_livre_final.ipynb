{
  "nbformat": 4,
  "nbformat_minor": 0,
  "metadata": {
    "colab": {
      "name": "paula-assis-manipulacao-mercado-livre-final.ipynb",
      "provenance": [],
      "authorship_tag": "ABX9TyN6sK+BFy6PzPA0BYoEiKDE",
      "include_colab_link": true
    },
    "kernelspec": {
      "name": "python3",
      "display_name": "Python 3"
    }
  },
  "cells": [
    {
      "cell_type": "markdown",
      "metadata": {
        "id": "view-in-github",
        "colab_type": "text"
      },
      "source": [
        "<a href=\"https://colab.research.google.com/github/paulaassisb/data-science/blob/main/paula_assis_manipulacao_mercado_livre_final.ipynb\" target=\"_parent\"><img src=\"https://colab.research.google.com/assets/colab-badge.svg\" alt=\"Open In Colab\"/></a>"
      ]
    },
    {
      "cell_type": "code",
      "metadata": {
        "id": "o1qAI4ZTRWzk"
      },
      "source": [
        "#Manipulação da dados"
      ],
      "execution_count": 1,
      "outputs": []
    },
    {
      "cell_type": "code",
      "metadata": {
        "id": "feWDDeOvcWCB"
      },
      "source": [
        "import pandas as pd\n",
        "import numpy as np\n",
        "import re"
      ],
      "execution_count": 48,
      "outputs": []
    },
    {
      "cell_type": "code",
      "metadata": {
        "id": "-FZ6RAGkcOlT"
      },
      "source": [
        "url = 'https://raw.githubusercontent.com/fernandoawari/calculadora-aluguel-turma-set-20/main/1-web-scraping/dados_aluguel_ml_sao_paulo.csv'\n",
        "df = pd.read_csv(url, thousands='.')"
      ],
      "execution_count": 26,
      "outputs": []
    },
    {
      "cell_type": "code",
      "metadata": {
        "colab": {
          "base_uri": "https://localhost:8080/",
          "height": 204
        },
        "id": "gZOkxqWCcQS2",
        "outputId": "5abf2856-eb15-496d-c85a-e5f1cf427d2e"
      },
      "source": [
        "df.head()"
      ],
      "execution_count": 27,
      "outputs": [
        {
          "output_type": "execute_result",
          "data": {
            "text/html": [
              "<div>\n",
              "<style scoped>\n",
              "    .dataframe tbody tr th:only-of-type {\n",
              "        vertical-align: middle;\n",
              "    }\n",
              "\n",
              "    .dataframe tbody tr th {\n",
              "        vertical-align: top;\n",
              "    }\n",
              "\n",
              "    .dataframe thead th {\n",
              "        text-align: right;\n",
              "    }\n",
              "</style>\n",
              "<table border=\"1\" class=\"dataframe\">\n",
              "  <thead>\n",
              "    <tr style=\"text-align: right;\">\n",
              "      <th></th>\n",
              "      <th>zona</th>\n",
              "      <th>area_quartos</th>\n",
              "      <th>enderecos_lista</th>\n",
              "      <th>aluguel</th>\n",
              "    </tr>\n",
              "  </thead>\n",
              "  <tbody>\n",
              "    <tr>\n",
              "      <th>0</th>\n",
              "      <td>norte</td>\n",
              "      <td>50 m² construídos2 quartos</td>\n",
              "      <td>Praça Rafael Mendes De Carvalho, Jardim Paraís...</td>\n",
              "      <td>1150</td>\n",
              "    </tr>\n",
              "    <tr>\n",
              "      <th>1</th>\n",
              "      <td>norte</td>\n",
              "      <td>76 m² construídos3 quartos</td>\n",
              "      <td>Rua Almirante Noronha, Jardim São Paulo, São P...</td>\n",
              "      <td>1480</td>\n",
              "    </tr>\n",
              "    <tr>\n",
              "      <th>2</th>\n",
              "      <td>norte</td>\n",
              "      <td>30 m² construídos1 quarto</td>\n",
              "      <td>Rua Cássio De Almeida, Vila Guilherme, São Pau...</td>\n",
              "      <td>800</td>\n",
              "    </tr>\n",
              "    <tr>\n",
              "      <th>3</th>\n",
              "      <td>norte</td>\n",
              "      <td>80 m² construídos3 quartos</td>\n",
              "      <td>Rua Cabo José Da Silva, Parque Novo Mundo, São...</td>\n",
              "      <td>1180</td>\n",
              "    </tr>\n",
              "    <tr>\n",
              "      <th>4</th>\n",
              "      <td>norte</td>\n",
              "      <td>70 m² construídos2 quartos</td>\n",
              "      <td>Parque Domingos Luís, Jardim São Paulo, São Pa...</td>\n",
              "      <td>1300</td>\n",
              "    </tr>\n",
              "  </tbody>\n",
              "</table>\n",
              "</div>"
            ],
            "text/plain": [
              "    zona  ... aluguel\n",
              "0  norte  ...    1150\n",
              "1  norte  ...    1480\n",
              "2  norte  ...     800\n",
              "3  norte  ...    1180\n",
              "4  norte  ...    1300\n",
              "\n",
              "[5 rows x 4 columns]"
            ]
          },
          "metadata": {
            "tags": []
          },
          "execution_count": 27
        }
      ]
    },
    {
      "cell_type": "code",
      "metadata": {
        "id": "4zikYcd9t38-"
      },
      "source": [
        "area_quartos_subset = ['1,360 m² totais',\n",
        "                       '2 quartos',\n",
        "                       '53 m² construídos2 quartos',\n",
        "                        '280 m² construídos',\n",
        "                        '2,600 m² construídos',\n",
        "                       ]"
      ],
      "execution_count": 31,
      "outputs": []
    },
    {
      "cell_type": "code",
      "metadata": {
        "id": "5_sZ9yzndYz8"
      },
      "source": [
        "def extrair_area(entrada):\n",
        "  if ' m²' in entrada:\n",
        "    area = entrada.split(' m²')[0]\n",
        "    area = area.replace(',', '')\n",
        "  else:\n",
        "    area = np.nan\n",
        "  return area"
      ],
      "execution_count": 35,
      "outputs": []
    },
    {
      "cell_type": "code",
      "metadata": {
        "colab": {
          "base_uri": "https://localhost:8080/"
        },
        "id": "j6wDBTPSthAm",
        "outputId": "584da123-7c84-46f0-ba12-807e67448fe4"
      },
      "source": [
        "for aq in area_quartos_subset:\n",
        "  print(extrair_area(aq))"
      ],
      "execution_count": 36,
      "outputs": [
        {
          "output_type": "stream",
          "text": [
            "1360\n",
            "nan\n",
            "53\n",
            "280\n",
            "2600\n"
          ],
          "name": "stdout"
        }
      ]
    },
    {
      "cell_type": "code",
      "metadata": {
        "id": "WgdO916lt10H"
      },
      "source": [
        "df['area']=df['area_quartos'].apply(extrair_area).astype(float)"
      ],
      "execution_count": 37,
      "outputs": []
    },
    {
      "cell_type": "code",
      "metadata": {
        "colab": {
          "base_uri": "https://localhost:8080/",
          "height": 204
        },
        "id": "kEh-KeWRuRhP",
        "outputId": "aedd5f25-bb90-4d73-c4fe-c7779c7228de"
      },
      "source": [
        "df.head()"
      ],
      "execution_count": 39,
      "outputs": [
        {
          "output_type": "execute_result",
          "data": {
            "text/html": [
              "<div>\n",
              "<style scoped>\n",
              "    .dataframe tbody tr th:only-of-type {\n",
              "        vertical-align: middle;\n",
              "    }\n",
              "\n",
              "    .dataframe tbody tr th {\n",
              "        vertical-align: top;\n",
              "    }\n",
              "\n",
              "    .dataframe thead th {\n",
              "        text-align: right;\n",
              "    }\n",
              "</style>\n",
              "<table border=\"1\" class=\"dataframe\">\n",
              "  <thead>\n",
              "    <tr style=\"text-align: right;\">\n",
              "      <th></th>\n",
              "      <th>zona</th>\n",
              "      <th>area_quartos</th>\n",
              "      <th>enderecos_lista</th>\n",
              "      <th>aluguel</th>\n",
              "      <th>area</th>\n",
              "    </tr>\n",
              "  </thead>\n",
              "  <tbody>\n",
              "    <tr>\n",
              "      <th>0</th>\n",
              "      <td>norte</td>\n",
              "      <td>50 m² construídos2 quartos</td>\n",
              "      <td>Praça Rafael Mendes De Carvalho, Jardim Paraís...</td>\n",
              "      <td>1150</td>\n",
              "      <td>50.0</td>\n",
              "    </tr>\n",
              "    <tr>\n",
              "      <th>1</th>\n",
              "      <td>norte</td>\n",
              "      <td>76 m² construídos3 quartos</td>\n",
              "      <td>Rua Almirante Noronha, Jardim São Paulo, São P...</td>\n",
              "      <td>1480</td>\n",
              "      <td>76.0</td>\n",
              "    </tr>\n",
              "    <tr>\n",
              "      <th>2</th>\n",
              "      <td>norte</td>\n",
              "      <td>30 m² construídos1 quarto</td>\n",
              "      <td>Rua Cássio De Almeida, Vila Guilherme, São Pau...</td>\n",
              "      <td>800</td>\n",
              "      <td>30.0</td>\n",
              "    </tr>\n",
              "    <tr>\n",
              "      <th>3</th>\n",
              "      <td>norte</td>\n",
              "      <td>80 m² construídos3 quartos</td>\n",
              "      <td>Rua Cabo José Da Silva, Parque Novo Mundo, São...</td>\n",
              "      <td>1180</td>\n",
              "      <td>80.0</td>\n",
              "    </tr>\n",
              "    <tr>\n",
              "      <th>4</th>\n",
              "      <td>norte</td>\n",
              "      <td>70 m² construídos2 quartos</td>\n",
              "      <td>Parque Domingos Luís, Jardim São Paulo, São Pa...</td>\n",
              "      <td>1300</td>\n",
              "      <td>70.0</td>\n",
              "    </tr>\n",
              "  </tbody>\n",
              "</table>\n",
              "</div>"
            ],
            "text/plain": [
              "    zona                area_quartos  ... aluguel  area\n",
              "0  norte  50 m² construídos2 quartos  ...    1150  50.0\n",
              "1  norte  76 m² construídos3 quartos  ...    1480  76.0\n",
              "2  norte   30 m² construídos1 quarto  ...     800  30.0\n",
              "3  norte  80 m² construídos3 quartos  ...    1180  80.0\n",
              "4  norte  70 m² construídos2 quartos  ...    1300  70.0\n",
              "\n",
              "[5 rows x 5 columns]"
            ]
          },
          "metadata": {
            "tags": []
          },
          "execution_count": 39
        }
      ]
    },
    {
      "cell_type": "code",
      "metadata": {
        "id": "JfB-s77MvM-3"
      },
      "source": [
        "area_quartos_subset = ['1,360 m² totais',\n",
        "                       '2 quartos',\n",
        "                       '1 quarto',\n",
        "                       '53 m² construídos2 quartos',\n",
        "                        '280 m² construídos',\n",
        "                        '2,600 m² construídos',\n",
        "                       ]"
      ],
      "execution_count": 44,
      "outputs": []
    },
    {
      "cell_type": "code",
      "metadata": {
        "id": "uao_F2NZvJgy"
      },
      "source": [
        "entrada='2 quartos'"
      ],
      "execution_count": 45,
      "outputs": []
    },
    {
      "cell_type": "code",
      "metadata": {
        "colab": {
          "base_uri": "https://localhost:8080/",
          "height": 35
        },
        "id": "QChKZYj_vEb8",
        "outputId": "66125654-03a8-4673-8474-53c1d2b180e1"
      },
      "source": [
        "re.findall('(.?) quarto', entrada)[0]"
      ],
      "execution_count": 49,
      "outputs": [
        {
          "output_type": "execute_result",
          "data": {
            "application/vnd.google.colaboratory.intrinsic+json": {
              "type": "string"
            },
            "text/plain": [
              "'2'"
            ]
          },
          "metadata": {
            "tags": []
          },
          "execution_count": 49
        }
      ]
    },
    {
      "cell_type": "code",
      "metadata": {
        "id": "VvJbY15YuT0v"
      },
      "source": [
        "def extrair_quartos(entrada):\n",
        "  if 'quarto' in entrada:\n",
        "      n_quartos = re.findall('(\\d*) quarto', entrada)[0]\n",
        "  else:\n",
        "      n_quartos = np.nan\n",
        "  return n_quartos"
      ],
      "execution_count": 54,
      "outputs": []
    },
    {
      "cell_type": "code",
      "metadata": {
        "colab": {
          "base_uri": "https://localhost:8080/"
        },
        "id": "t7GaME4hu3t3",
        "outputId": "ebc58240-4471-4ebf-f9b9-e7a031016ec5"
      },
      "source": [
        "for aq in area_quartos_subset:\n",
        "  print(extrair_quartos(aq))"
      ],
      "execution_count": 55,
      "outputs": [
        {
          "output_type": "stream",
          "text": [
            "nan\n",
            "2\n",
            "1\n",
            "2\n",
            "nan\n",
            "nan\n"
          ],
          "name": "stdout"
        }
      ]
    },
    {
      "cell_type": "code",
      "metadata": {
        "id": "arWXRG-SwrFP"
      },
      "source": [
        "df['quartos'] = df['area_quartos'].apply(extrair_quartos).astype(float)"
      ],
      "execution_count": 56,
      "outputs": []
    },
    {
      "cell_type": "code",
      "metadata": {
        "id": "QxDYaev1xTLf"
      },
      "source": [
        "df = df.drop('area_quartos', axis=1)"
      ],
      "execution_count": 57,
      "outputs": []
    },
    {
      "cell_type": "code",
      "metadata": {
        "id": "_b5oFobjxX_N"
      },
      "source": [
        "cols = ['zona', 'enderecos_lista', 'area', 'quartos', 'aluguel']"
      ],
      "execution_count": 61,
      "outputs": []
    },
    {
      "cell_type": "code",
      "metadata": {
        "id": "0zDpJeLlxvnY"
      },
      "source": [
        "df=df[cols]"
      ],
      "execution_count": 63,
      "outputs": []
    },
    {
      "cell_type": "code",
      "metadata": {
        "colab": {
          "base_uri": "https://localhost:8080/",
          "height": 204
        },
        "id": "A4S1-z1jxkwj",
        "outputId": "af143573-2009-4063-d942-38fa6be83913"
      },
      "source": [
        "df.head()"
      ],
      "execution_count": 64,
      "outputs": [
        {
          "output_type": "execute_result",
          "data": {
            "text/html": [
              "<div>\n",
              "<style scoped>\n",
              "    .dataframe tbody tr th:only-of-type {\n",
              "        vertical-align: middle;\n",
              "    }\n",
              "\n",
              "    .dataframe tbody tr th {\n",
              "        vertical-align: top;\n",
              "    }\n",
              "\n",
              "    .dataframe thead th {\n",
              "        text-align: right;\n",
              "    }\n",
              "</style>\n",
              "<table border=\"1\" class=\"dataframe\">\n",
              "  <thead>\n",
              "    <tr style=\"text-align: right;\">\n",
              "      <th></th>\n",
              "      <th>zona</th>\n",
              "      <th>enderecos_lista</th>\n",
              "      <th>area</th>\n",
              "      <th>quartos</th>\n",
              "      <th>aluguel</th>\n",
              "    </tr>\n",
              "  </thead>\n",
              "  <tbody>\n",
              "    <tr>\n",
              "      <th>0</th>\n",
              "      <td>norte</td>\n",
              "      <td>Praça Rafael Mendes De Carvalho, Jardim Paraís...</td>\n",
              "      <td>50.0</td>\n",
              "      <td>2.0</td>\n",
              "      <td>1150</td>\n",
              "    </tr>\n",
              "    <tr>\n",
              "      <th>1</th>\n",
              "      <td>norte</td>\n",
              "      <td>Rua Almirante Noronha, Jardim São Paulo, São P...</td>\n",
              "      <td>76.0</td>\n",
              "      <td>3.0</td>\n",
              "      <td>1480</td>\n",
              "    </tr>\n",
              "    <tr>\n",
              "      <th>2</th>\n",
              "      <td>norte</td>\n",
              "      <td>Rua Cássio De Almeida, Vila Guilherme, São Pau...</td>\n",
              "      <td>30.0</td>\n",
              "      <td>1.0</td>\n",
              "      <td>800</td>\n",
              "    </tr>\n",
              "    <tr>\n",
              "      <th>3</th>\n",
              "      <td>norte</td>\n",
              "      <td>Rua Cabo José Da Silva, Parque Novo Mundo, São...</td>\n",
              "      <td>80.0</td>\n",
              "      <td>3.0</td>\n",
              "      <td>1180</td>\n",
              "    </tr>\n",
              "    <tr>\n",
              "      <th>4</th>\n",
              "      <td>norte</td>\n",
              "      <td>Parque Domingos Luís, Jardim São Paulo, São Pa...</td>\n",
              "      <td>70.0</td>\n",
              "      <td>2.0</td>\n",
              "      <td>1300</td>\n",
              "    </tr>\n",
              "  </tbody>\n",
              "</table>\n",
              "</div>"
            ],
            "text/plain": [
              "    zona                                    enderecos_lista  ...  quartos  aluguel\n",
              "0  norte  Praça Rafael Mendes De Carvalho, Jardim Paraís...  ...      2.0     1150\n",
              "1  norte  Rua Almirante Noronha, Jardim São Paulo, São P...  ...      3.0     1480\n",
              "2  norte  Rua Cássio De Almeida, Vila Guilherme, São Pau...  ...      1.0      800\n",
              "3  norte  Rua Cabo José Da Silva, Parque Novo Mundo, São...  ...      3.0     1180\n",
              "4  norte  Parque Domingos Luís, Jardim São Paulo, São Pa...  ...      2.0     1300\n",
              "\n",
              "[5 rows x 5 columns]"
            ]
          },
          "metadata": {
            "tags": []
          },
          "execution_count": 64
        }
      ]
    },
    {
      "cell_type": "code",
      "metadata": {
        "colab": {
          "base_uri": "https://localhost:8080/"
        },
        "id": "6CzyOGBqxnOJ",
        "outputId": "81b5e90a-7011-4ed0-b218-d8abc75ea47f"
      },
      "source": [
        "df.median()"
      ],
      "execution_count": 65,
      "outputs": [
        {
          "output_type": "execute_result",
          "data": {
            "text/plain": [
              "area         67.0\n",
              "quartos       2.0\n",
              "aluguel    2200.0\n",
              "dtype: float64"
            ]
          },
          "metadata": {
            "tags": []
          },
          "execution_count": 65
        }
      ]
    },
    {
      "cell_type": "code",
      "metadata": {
        "colab": {
          "base_uri": "https://localhost:8080/",
          "height": 419
        },
        "id": "7zMGHcRkzUgD",
        "outputId": "cef2c3c8-4498-4c0a-bfb7-426ce7045991"
      },
      "source": [
        "df.fillna(df.median())"
      ],
      "execution_count": 66,
      "outputs": [
        {
          "output_type": "execute_result",
          "data": {
            "text/html": [
              "<div>\n",
              "<style scoped>\n",
              "    .dataframe tbody tr th:only-of-type {\n",
              "        vertical-align: middle;\n",
              "    }\n",
              "\n",
              "    .dataframe tbody tr th {\n",
              "        vertical-align: top;\n",
              "    }\n",
              "\n",
              "    .dataframe thead th {\n",
              "        text-align: right;\n",
              "    }\n",
              "</style>\n",
              "<table border=\"1\" class=\"dataframe\">\n",
              "  <thead>\n",
              "    <tr style=\"text-align: right;\">\n",
              "      <th></th>\n",
              "      <th>zona</th>\n",
              "      <th>enderecos_lista</th>\n",
              "      <th>area</th>\n",
              "      <th>quartos</th>\n",
              "      <th>aluguel</th>\n",
              "    </tr>\n",
              "  </thead>\n",
              "  <tbody>\n",
              "    <tr>\n",
              "      <th>0</th>\n",
              "      <td>norte</td>\n",
              "      <td>Praça Rafael Mendes De Carvalho, Jardim Paraís...</td>\n",
              "      <td>50.0</td>\n",
              "      <td>2.0</td>\n",
              "      <td>1150</td>\n",
              "    </tr>\n",
              "    <tr>\n",
              "      <th>1</th>\n",
              "      <td>norte</td>\n",
              "      <td>Rua Almirante Noronha, Jardim São Paulo, São P...</td>\n",
              "      <td>76.0</td>\n",
              "      <td>3.0</td>\n",
              "      <td>1480</td>\n",
              "    </tr>\n",
              "    <tr>\n",
              "      <th>2</th>\n",
              "      <td>norte</td>\n",
              "      <td>Rua Cássio De Almeida, Vila Guilherme, São Pau...</td>\n",
              "      <td>30.0</td>\n",
              "      <td>1.0</td>\n",
              "      <td>800</td>\n",
              "    </tr>\n",
              "    <tr>\n",
              "      <th>3</th>\n",
              "      <td>norte</td>\n",
              "      <td>Rua Cabo José Da Silva, Parque Novo Mundo, São...</td>\n",
              "      <td>80.0</td>\n",
              "      <td>3.0</td>\n",
              "      <td>1180</td>\n",
              "    </tr>\n",
              "    <tr>\n",
              "      <th>4</th>\n",
              "      <td>norte</td>\n",
              "      <td>Parque Domingos Luís, Jardim São Paulo, São Pa...</td>\n",
              "      <td>70.0</td>\n",
              "      <td>2.0</td>\n",
              "      <td>1300</td>\n",
              "    </tr>\n",
              "    <tr>\n",
              "      <th>...</th>\n",
              "      <td>...</td>\n",
              "      <td>...</td>\n",
              "      <td>...</td>\n",
              "      <td>...</td>\n",
              "      <td>...</td>\n",
              "    </tr>\n",
              "    <tr>\n",
              "      <th>1339</th>\n",
              "      <td>oeste</td>\n",
              "      <td>Rua Piauí, Higienópolis, São Paulo Zona Oeste,...</td>\n",
              "      <td>480.0</td>\n",
              "      <td>4.0</td>\n",
              "      <td>13280</td>\n",
              "    </tr>\n",
              "    <tr>\n",
              "      <th>1340</th>\n",
              "      <td>oeste</td>\n",
              "      <td>Rua Doutor Aires Martins Torres, Vila São Fran...</td>\n",
              "      <td>620.0</td>\n",
              "      <td>4.0</td>\n",
              "      <td>15000</td>\n",
              "    </tr>\n",
              "    <tr>\n",
              "      <th>1341</th>\n",
              "      <td>oeste</td>\n",
              "      <td>Rua Doutor Martins De Oliveira, Jardim Londrin...</td>\n",
              "      <td>64.0</td>\n",
              "      <td>3.0</td>\n",
              "      <td>2390</td>\n",
              "    </tr>\n",
              "    <tr>\n",
              "      <th>1342</th>\n",
              "      <td>oeste</td>\n",
              "      <td>Rua Natingui, Vila Madalena, São Paulo Zona Oe...</td>\n",
              "      <td>44.0</td>\n",
              "      <td>1.0</td>\n",
              "      <td>3600</td>\n",
              "    </tr>\n",
              "    <tr>\n",
              "      <th>1343</th>\n",
              "      <td>oeste</td>\n",
              "      <td>Rua Amaro Cavalheiro, Pinheiros, São Paulo Zon...</td>\n",
              "      <td>150.0</td>\n",
              "      <td>3.0</td>\n",
              "      <td>4000</td>\n",
              "    </tr>\n",
              "  </tbody>\n",
              "</table>\n",
              "<p>1344 rows × 5 columns</p>\n",
              "</div>"
            ],
            "text/plain": [
              "       zona  ... aluguel\n",
              "0     norte  ...    1150\n",
              "1     norte  ...    1480\n",
              "2     norte  ...     800\n",
              "3     norte  ...    1180\n",
              "4     norte  ...    1300\n",
              "...     ...  ...     ...\n",
              "1339  oeste  ...   13280\n",
              "1340  oeste  ...   15000\n",
              "1341  oeste  ...    2390\n",
              "1342  oeste  ...    3600\n",
              "1343  oeste  ...    4000\n",
              "\n",
              "[1344 rows x 5 columns]"
            ]
          },
          "metadata": {
            "tags": []
          },
          "execution_count": 66
        }
      ]
    },
    {
      "cell_type": "code",
      "metadata": {
        "id": "ZCUnVSIkzWYl"
      },
      "source": [
        ""
      ],
      "execution_count": null,
      "outputs": []
    }
  ]
}